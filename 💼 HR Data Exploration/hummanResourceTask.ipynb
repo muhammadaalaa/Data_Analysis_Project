{
 "cells": [
  {
   "cell_type": "code",
   "execution_count": 5,
   "id": "e7875aa3-b837-46ac-b743-9834bfaec9ec",
   "metadata": {},
   "outputs": [],
   "source": [
    "import pandas as pd"
   ]
  },
  {
   "cell_type": "code",
   "execution_count": 7,
   "id": "b45d3def-a00d-43e8-917d-51df9d5aced1",
   "metadata": {},
   "outputs": [],
   "source": [
    "# هنطبق كل خطوات ال Analysis\n",
    "# 1- Ask Questions\n",
    "# 2- Explore\n",
    "# 3- Cleaning and transformation\n",
    "# 4- Reporting"
   ]
  },
  {
   "cell_type": "code",
   "execution_count": 9,
   "id": "4a5a6ed1-d45e-44ce-89fa-536ffecfffbb",
   "metadata": {},
   "outputs": [],
   "source": [
    "#Explore\n",
    "# head , tail , sample\n",
    "# info\n",
    "# describe\n",
    "# shape\n",
    "# columns\n",
    "# dtypes\n",
    "\n",
    "#unique\n",
    "#value_counts\n",
    "#nunique"
   ]
  },
  {
   "cell_type": "code",
   "execution_count": 8,
   "id": "a29dae83-086c-41b5-81c6-7139453e51ed",
   "metadata": {},
   "outputs": [
    {
     "name": "stdout",
     "output_type": "stream",
     "text": [
      "Detected delimiter: ';'\n",
      "   Employee_ID First Name Last Name  Gender           State           City  \\\n",
      "0  00-95822412   Danielle   Johnson  Female        New York  New York City   \n",
      "1  00-42868828       John    Taylor    Male  North Carolina      Charlotte   \n",
      "2  00-83197857      Erica   Mcclain    Male        New York  New York City   \n",
      "3  00-13999315   Brittany   Johnson    Male        New York  New York City   \n",
      "4  00-90801586    Jeffery    Wagner  Female        New York  New York City   \n",
      "\n",
      "  Education Level   Birthdate    Hiredate    Termdate        Department  \\\n",
      "0     High School  13/02/1980  16/04/2016  05/07/2021  Customer Service   \n",
      "1        Bachelor  22/09/1987  09/02/2017  14/06/2019                IT   \n",
      "2        Bachelor  19/05/1994  03/02/2016  06/03/2021        Operations   \n",
      "3        Bachelor  18/04/1980  06/02/2016  06/11/2018        Operations   \n",
      "4        Bachelor  07/04/1985  11/01/2015         NaN        Operations   \n",
      "\n",
      "               Job Title  Salary Performance Rating  \n",
      "0   Help Desk Technician   81552  Needs Improvement  \n",
      "1   System Administrator  107520               Good  \n",
      "2  Logistics Coordinator   61104               Good  \n",
      "3   Inventory Specialist   73770               Good  \n",
      "4     Operations Analyst   55581       Satisfactory  \n"
     ]
    }
   ],
   "source": [
    "import pandas as pd\n",
    "import csv\n",
    "\n",
    "# Path to your file\n",
    "file_path = 'HumanResources.csv'\n",
    "\n",
    "# Step 1: Open the file and read a sample\n",
    "with open(file_path, 'r', encoding='utf-8') as f:\n",
    "    sample = f.read(2048)\n",
    "    sniffer = csv.Sniffer()\n",
    "    dialect = sniffer.sniff(sample)\n",
    "\n",
    "# Step 2: Use the detected delimiter\n",
    "df = pd.read_csv(file_path, delimiter=dialect.delimiter)\n",
    "\n",
    "print(f\"Detected delimiter: {repr(dialect.delimiter)}\")\n",
    "print(df.head())\n"
   ]
  },
  {
   "cell_type": "code",
   "execution_count": 9,
   "id": "4d0666d3-4561-4c7e-b6b6-e8684bb4cd6b",
   "metadata": {},
   "outputs": [
    {
     "data": {
      "text/html": [
       "<div>\n",
       "<style scoped>\n",
       "    .dataframe tbody tr th:only-of-type {\n",
       "        vertical-align: middle;\n",
       "    }\n",
       "\n",
       "    .dataframe tbody tr th {\n",
       "        vertical-align: top;\n",
       "    }\n",
       "\n",
       "    .dataframe thead th {\n",
       "        text-align: right;\n",
       "    }\n",
       "</style>\n",
       "<table border=\"1\" class=\"dataframe\">\n",
       "  <thead>\n",
       "    <tr style=\"text-align: right;\">\n",
       "      <th></th>\n",
       "      <th>Employee_ID</th>\n",
       "      <th>First Name</th>\n",
       "      <th>Last Name</th>\n",
       "      <th>Gender</th>\n",
       "      <th>State</th>\n",
       "      <th>City</th>\n",
       "      <th>Education Level</th>\n",
       "      <th>Birthdate</th>\n",
       "      <th>Hiredate</th>\n",
       "      <th>Termdate</th>\n",
       "      <th>Department</th>\n",
       "      <th>Job Title</th>\n",
       "      <th>Salary</th>\n",
       "      <th>Performance Rating</th>\n",
       "    </tr>\n",
       "  </thead>\n",
       "  <tbody>\n",
       "    <tr>\n",
       "      <th>0</th>\n",
       "      <td>00-95822412</td>\n",
       "      <td>Danielle</td>\n",
       "      <td>Johnson</td>\n",
       "      <td>Female</td>\n",
       "      <td>New York</td>\n",
       "      <td>New York City</td>\n",
       "      <td>High School</td>\n",
       "      <td>13/02/1980</td>\n",
       "      <td>16/04/2016</td>\n",
       "      <td>05/07/2021</td>\n",
       "      <td>Customer Service</td>\n",
       "      <td>Help Desk Technician</td>\n",
       "      <td>81552</td>\n",
       "      <td>Needs Improvement</td>\n",
       "    </tr>\n",
       "    <tr>\n",
       "      <th>1</th>\n",
       "      <td>00-42868828</td>\n",
       "      <td>John</td>\n",
       "      <td>Taylor</td>\n",
       "      <td>Male</td>\n",
       "      <td>North Carolina</td>\n",
       "      <td>Charlotte</td>\n",
       "      <td>Bachelor</td>\n",
       "      <td>22/09/1987</td>\n",
       "      <td>09/02/2017</td>\n",
       "      <td>14/06/2019</td>\n",
       "      <td>IT</td>\n",
       "      <td>System Administrator</td>\n",
       "      <td>107520</td>\n",
       "      <td>Good</td>\n",
       "    </tr>\n",
       "    <tr>\n",
       "      <th>2</th>\n",
       "      <td>00-83197857</td>\n",
       "      <td>Erica</td>\n",
       "      <td>Mcclain</td>\n",
       "      <td>Male</td>\n",
       "      <td>New York</td>\n",
       "      <td>New York City</td>\n",
       "      <td>Bachelor</td>\n",
       "      <td>19/05/1994</td>\n",
       "      <td>03/02/2016</td>\n",
       "      <td>06/03/2021</td>\n",
       "      <td>Operations</td>\n",
       "      <td>Logistics Coordinator</td>\n",
       "      <td>61104</td>\n",
       "      <td>Good</td>\n",
       "    </tr>\n",
       "    <tr>\n",
       "      <th>3</th>\n",
       "      <td>00-13999315</td>\n",
       "      <td>Brittany</td>\n",
       "      <td>Johnson</td>\n",
       "      <td>Male</td>\n",
       "      <td>New York</td>\n",
       "      <td>New York City</td>\n",
       "      <td>Bachelor</td>\n",
       "      <td>18/04/1980</td>\n",
       "      <td>06/02/2016</td>\n",
       "      <td>06/11/2018</td>\n",
       "      <td>Operations</td>\n",
       "      <td>Inventory Specialist</td>\n",
       "      <td>73770</td>\n",
       "      <td>Good</td>\n",
       "    </tr>\n",
       "    <tr>\n",
       "      <th>4</th>\n",
       "      <td>00-90801586</td>\n",
       "      <td>Jeffery</td>\n",
       "      <td>Wagner</td>\n",
       "      <td>Female</td>\n",
       "      <td>New York</td>\n",
       "      <td>New York City</td>\n",
       "      <td>Bachelor</td>\n",
       "      <td>07/04/1985</td>\n",
       "      <td>11/01/2015</td>\n",
       "      <td>NaN</td>\n",
       "      <td>Operations</td>\n",
       "      <td>Operations Analyst</td>\n",
       "      <td>55581</td>\n",
       "      <td>Satisfactory</td>\n",
       "    </tr>\n",
       "    <tr>\n",
       "      <th>...</th>\n",
       "      <td>...</td>\n",
       "      <td>...</td>\n",
       "      <td>...</td>\n",
       "      <td>...</td>\n",
       "      <td>...</td>\n",
       "      <td>...</td>\n",
       "      <td>...</td>\n",
       "      <td>...</td>\n",
       "      <td>...</td>\n",
       "      <td>...</td>\n",
       "      <td>...</td>\n",
       "      <td>...</td>\n",
       "      <td>...</td>\n",
       "      <td>...</td>\n",
       "    </tr>\n",
       "    <tr>\n",
       "      <th>8945</th>\n",
       "      <td>00-29226627</td>\n",
       "      <td>Cory</td>\n",
       "      <td>Mccall</td>\n",
       "      <td>Male</td>\n",
       "      <td>New York</td>\n",
       "      <td>Buffalo</td>\n",
       "      <td>Bachelor</td>\n",
       "      <td>28/07/1969</td>\n",
       "      <td>29/05/2021</td>\n",
       "      <td>NaN</td>\n",
       "      <td>Operations</td>\n",
       "      <td>Inventory Specialist</td>\n",
       "      <td>64265</td>\n",
       "      <td>Needs Improvement</td>\n",
       "    </tr>\n",
       "    <tr>\n",
       "      <th>8946</th>\n",
       "      <td>00-15091628</td>\n",
       "      <td>Brian</td>\n",
       "      <td>Nguyen</td>\n",
       "      <td>Male</td>\n",
       "      <td>New York</td>\n",
       "      <td>New York City</td>\n",
       "      <td>Bachelor</td>\n",
       "      <td>22/05/1984</td>\n",
       "      <td>06/07/2022</td>\n",
       "      <td>NaN</td>\n",
       "      <td>Operations</td>\n",
       "      <td>Inventory Specialist</td>\n",
       "      <td>63570</td>\n",
       "      <td>Excellent</td>\n",
       "    </tr>\n",
       "    <tr>\n",
       "      <th>8947</th>\n",
       "      <td>00-68025539</td>\n",
       "      <td>Corey</td>\n",
       "      <td>Miles</td>\n",
       "      <td>Female</td>\n",
       "      <td>Michigan</td>\n",
       "      <td>Detroit</td>\n",
       "      <td>High School</td>\n",
       "      <td>05/08/2001</td>\n",
       "      <td>03/02/2018</td>\n",
       "      <td>NaN</td>\n",
       "      <td>HR</td>\n",
       "      <td>Recruiter</td>\n",
       "      <td>73208</td>\n",
       "      <td>Needs Improvement</td>\n",
       "    </tr>\n",
       "    <tr>\n",
       "      <th>8948</th>\n",
       "      <td>00-19066901</td>\n",
       "      <td>Krystal</td>\n",
       "      <td>Wilson</td>\n",
       "      <td>Male</td>\n",
       "      <td>North Carolina</td>\n",
       "      <td>Raleigh</td>\n",
       "      <td>Bachelor</td>\n",
       "      <td>23/09/1962</td>\n",
       "      <td>07/12/2023</td>\n",
       "      <td>NaN</td>\n",
       "      <td>Finance</td>\n",
       "      <td>Accountant</td>\n",
       "      <td>95028</td>\n",
       "      <td>Good</td>\n",
       "    </tr>\n",
       "    <tr>\n",
       "      <th>8949</th>\n",
       "      <td>00-50413766</td>\n",
       "      <td>Derek</td>\n",
       "      <td>Thornton</td>\n",
       "      <td>Female</td>\n",
       "      <td>New York</td>\n",
       "      <td>Rochester</td>\n",
       "      <td>PhD</td>\n",
       "      <td>04/08/1993</td>\n",
       "      <td>15/08/2017</td>\n",
       "      <td>NaN</td>\n",
       "      <td>Sales</td>\n",
       "      <td>Sales Specialist</td>\n",
       "      <td>68351</td>\n",
       "      <td>Good</td>\n",
       "    </tr>\n",
       "  </tbody>\n",
       "</table>\n",
       "<p>8950 rows × 14 columns</p>\n",
       "</div>"
      ],
      "text/plain": [
       "      Employee_ID First Name Last Name  Gender           State           City  \\\n",
       "0     00-95822412   Danielle   Johnson  Female        New York  New York City   \n",
       "1     00-42868828       John    Taylor    Male  North Carolina      Charlotte   \n",
       "2     00-83197857      Erica   Mcclain    Male        New York  New York City   \n",
       "3     00-13999315   Brittany   Johnson    Male        New York  New York City   \n",
       "4     00-90801586    Jeffery    Wagner  Female        New York  New York City   \n",
       "...           ...        ...       ...     ...             ...            ...   \n",
       "8945  00-29226627       Cory    Mccall    Male        New York        Buffalo   \n",
       "8946  00-15091628      Brian    Nguyen    Male        New York  New York City   \n",
       "8947  00-68025539      Corey     Miles  Female        Michigan        Detroit   \n",
       "8948  00-19066901    Krystal    Wilson    Male  North Carolina        Raleigh   \n",
       "8949  00-50413766      Derek  Thornton  Female        New York      Rochester   \n",
       "\n",
       "     Education Level   Birthdate    Hiredate    Termdate        Department  \\\n",
       "0        High School  13/02/1980  16/04/2016  05/07/2021  Customer Service   \n",
       "1           Bachelor  22/09/1987  09/02/2017  14/06/2019                IT   \n",
       "2           Bachelor  19/05/1994  03/02/2016  06/03/2021        Operations   \n",
       "3           Bachelor  18/04/1980  06/02/2016  06/11/2018        Operations   \n",
       "4           Bachelor  07/04/1985  11/01/2015         NaN        Operations   \n",
       "...              ...         ...         ...         ...               ...   \n",
       "8945        Bachelor  28/07/1969  29/05/2021         NaN        Operations   \n",
       "8946        Bachelor  22/05/1984  06/07/2022         NaN        Operations   \n",
       "8947     High School  05/08/2001  03/02/2018         NaN                HR   \n",
       "8948        Bachelor  23/09/1962  07/12/2023         NaN           Finance   \n",
       "8949             PhD  04/08/1993  15/08/2017         NaN             Sales   \n",
       "\n",
       "                  Job Title  Salary Performance Rating  \n",
       "0      Help Desk Technician   81552  Needs Improvement  \n",
       "1      System Administrator  107520               Good  \n",
       "2     Logistics Coordinator   61104               Good  \n",
       "3      Inventory Specialist   73770               Good  \n",
       "4        Operations Analyst   55581       Satisfactory  \n",
       "...                     ...     ...                ...  \n",
       "8945   Inventory Specialist   64265  Needs Improvement  \n",
       "8946   Inventory Specialist   63570          Excellent  \n",
       "8947              Recruiter   73208  Needs Improvement  \n",
       "8948             Accountant   95028               Good  \n",
       "8949       Sales Specialist   68351               Good  \n",
       "\n",
       "[8950 rows x 14 columns]"
      ]
     },
     "execution_count": 9,
     "metadata": {},
     "output_type": "execute_result"
    }
   ],
   "source": [
    "df"
   ]
  },
  {
   "cell_type": "code",
   "execution_count": 10,
   "id": "ae0358ef-b6fc-40ea-926e-d8f88050a8ce",
   "metadata": {},
   "outputs": [
    {
     "data": {
      "text/plain": [
       "Employee_ID           object\n",
       "First Name            object\n",
       "Last Name             object\n",
       "Gender                object\n",
       "State                 object\n",
       "City                  object\n",
       "Education Level       object\n",
       "Birthdate             object\n",
       "Hiredate              object\n",
       "Termdate              object\n",
       "Department            object\n",
       "Job Title             object\n",
       "Salary                 int64\n",
       "Performance Rating    object\n",
       "dtype: object"
      ]
     },
     "execution_count": 10,
     "metadata": {},
     "output_type": "execute_result"
    }
   ],
   "source": [
    "df.dtypes"
   ]
  },
  {
   "cell_type": "code",
   "execution_count": 11,
   "id": "e1ce113c-b4aa-4a39-9b95-018570eb76d0",
   "metadata": {},
   "outputs": [],
   "source": [
    "df['Birthdate'] = pd.to_datetime(df['Birthdate'],dayfirst = True)"
   ]
  },
  {
   "cell_type": "code",
   "execution_count": 12,
   "id": "79ea5ff9-f90d-4205-9404-2cee9ccdb740",
   "metadata": {},
   "outputs": [
    {
     "data": {
      "text/plain": [
       "Employee_ID                   object\n",
       "First Name                    object\n",
       "Last Name                     object\n",
       "Gender                        object\n",
       "State                         object\n",
       "City                          object\n",
       "Education Level               object\n",
       "Birthdate             datetime64[ns]\n",
       "Hiredate                      object\n",
       "Termdate                      object\n",
       "Department                    object\n",
       "Job Title                     object\n",
       "Salary                         int64\n",
       "Performance Rating            object\n",
       "dtype: object"
      ]
     },
     "execution_count": 12,
     "metadata": {},
     "output_type": "execute_result"
    }
   ],
   "source": [
    "df.dtypes"
   ]
  },
  {
   "cell_type": "code",
   "execution_count": 13,
   "id": "7003a919-8766-4c36-8726-29f89c849173",
   "metadata": {},
   "outputs": [],
   "source": [
    "df['Hiredate'] = pd.to_datetime(df['Hiredate'],dayfirst =True)"
   ]
  },
  {
   "cell_type": "code",
   "execution_count": 14,
   "id": "5239880d-69bb-4e79-a1f7-826246b38904",
   "metadata": {},
   "outputs": [],
   "source": [
    "df['Termdate'] = pd.to_datetime(df['Termdate'],dayfirst = True)"
   ]
  },
  {
   "cell_type": "code",
   "execution_count": 15,
   "id": "f0511e85-22c3-4f34-89fc-41bbbb42e9cc",
   "metadata": {},
   "outputs": [
    {
     "data": {
      "text/plain": [
       "Employee_ID                   object\n",
       "First Name                    object\n",
       "Last Name                     object\n",
       "Gender                        object\n",
       "State                         object\n",
       "City                          object\n",
       "Education Level               object\n",
       "Birthdate             datetime64[ns]\n",
       "Hiredate              datetime64[ns]\n",
       "Termdate              datetime64[ns]\n",
       "Department                    object\n",
       "Job Title                     object\n",
       "Salary                         int64\n",
       "Performance Rating            object\n",
       "dtype: object"
      ]
     },
     "execution_count": 15,
     "metadata": {},
     "output_type": "execute_result"
    }
   ],
   "source": [
    "df.dtypes"
   ]
  },
  {
   "cell_type": "code",
   "execution_count": 16,
   "id": "cb5ae294-5e8c-4f8a-95f0-fc18a5b60bfd",
   "metadata": {},
   "outputs": [
    {
     "data": {
      "text/plain": [
       "np.int64(0)"
      ]
     },
     "execution_count": 16,
     "metadata": {},
     "output_type": "execute_result"
    }
   ],
   "source": [
    "df.duplicated().sum()"
   ]
  },
  {
   "cell_type": "code",
   "execution_count": 17,
   "id": "d0bae47a-6003-41e7-9786-27fe259d2833",
   "metadata": {},
   "outputs": [
    {
     "data": {
      "text/plain": [
       "Employee_ID              0\n",
       "First Name               0\n",
       "Last Name                0\n",
       "Gender                   0\n",
       "State                    0\n",
       "City                     0\n",
       "Education Level          0\n",
       "Birthdate                0\n",
       "Hiredate                 0\n",
       "Termdate              7984\n",
       "Department               0\n",
       "Job Title                0\n",
       "Salary                   0\n",
       "Performance Rating       0\n",
       "dtype: int64"
      ]
     },
     "execution_count": 17,
     "metadata": {},
     "output_type": "execute_result"
    }
   ],
   "source": [
    "df.isna().sum()"
   ]
  },
  {
   "cell_type": "code",
   "execution_count": 57,
   "id": "a1cc3249-32d7-4721-a446-8bcb82240ca5",
   "metadata": {},
   "outputs": [
    {
     "data": {
      "text/html": [
       "<div>\n",
       "<style scoped>\n",
       "    .dataframe tbody tr th:only-of-type {\n",
       "        vertical-align: middle;\n",
       "    }\n",
       "\n",
       "    .dataframe tbody tr th {\n",
       "        vertical-align: top;\n",
       "    }\n",
       "\n",
       "    .dataframe thead th {\n",
       "        text-align: right;\n",
       "    }\n",
       "</style>\n",
       "<table border=\"1\" class=\"dataframe\">\n",
       "  <thead>\n",
       "    <tr style=\"text-align: right;\">\n",
       "      <th></th>\n",
       "      <th>Employee_ID</th>\n",
       "      <th>First Name</th>\n",
       "      <th>Last Name</th>\n",
       "      <th>Gender</th>\n",
       "      <th>State</th>\n",
       "      <th>City</th>\n",
       "      <th>Education Level</th>\n",
       "      <th>Birthdate</th>\n",
       "      <th>Hiredate</th>\n",
       "      <th>Termdate</th>\n",
       "      <th>Department</th>\n",
       "      <th>Job Title</th>\n",
       "      <th>Salary</th>\n",
       "      <th>Performance Rating</th>\n",
       "    </tr>\n",
       "  </thead>\n",
       "  <tbody>\n",
       "    <tr>\n",
       "      <th>759</th>\n",
       "      <td>00-76545476</td>\n",
       "      <td>Shawn</td>\n",
       "      <td>Palmer</td>\n",
       "      <td>Male</td>\n",
       "      <td>New York</td>\n",
       "      <td>New York City</td>\n",
       "      <td>Bachelor</td>\n",
       "      <td>1962-07-19</td>\n",
       "      <td>2020-06-26</td>\n",
       "      <td>2021-08-20</td>\n",
       "      <td>HR</td>\n",
       "      <td>HR Coordinator</td>\n",
       "      <td>72109</td>\n",
       "      <td>Good</td>\n",
       "    </tr>\n",
       "  </tbody>\n",
       "</table>\n",
       "</div>"
      ],
      "text/plain": [
       "     Employee_ID First Name Last Name Gender     State           City  \\\n",
       "759  00-76545476      Shawn    Palmer   Male  New York  New York City   \n",
       "\n",
       "    Education Level  Birthdate   Hiredate   Termdate Department  \\\n",
       "759        Bachelor 1962-07-19 2020-06-26 2021-08-20         HR   \n",
       "\n",
       "          Job Title  Salary Performance Rating  \n",
       "759  HR Coordinator   72109               Good  "
      ]
     },
     "execution_count": 57,
     "metadata": {},
     "output_type": "execute_result"
    }
   ],
   "source": [
    "df.sample()"
   ]
  },
  {
   "cell_type": "code",
   "execution_count": 18,
   "id": "a61c4dd0-1d70-4cdf-91b7-936a5d541fdb",
   "metadata": {},
   "outputs": [
    {
     "data": {
      "text/html": [
       "<div>\n",
       "<style scoped>\n",
       "    .dataframe tbody tr th:only-of-type {\n",
       "        vertical-align: middle;\n",
       "    }\n",
       "\n",
       "    .dataframe tbody tr th {\n",
       "        vertical-align: top;\n",
       "    }\n",
       "\n",
       "    .dataframe thead th {\n",
       "        text-align: right;\n",
       "    }\n",
       "</style>\n",
       "<table border=\"1\" class=\"dataframe\">\n",
       "  <thead>\n",
       "    <tr style=\"text-align: right;\">\n",
       "      <th></th>\n",
       "      <th>count</th>\n",
       "      <th>mean</th>\n",
       "      <th>min</th>\n",
       "      <th>25%</th>\n",
       "      <th>50%</th>\n",
       "      <th>75%</th>\n",
       "      <th>max</th>\n",
       "      <th>std</th>\n",
       "    </tr>\n",
       "  </thead>\n",
       "  <tbody>\n",
       "    <tr>\n",
       "      <th>Birthdate</th>\n",
       "      <td>8950</td>\n",
       "      <td>1984-01-27 03:38:19.977653632</td>\n",
       "      <td>1959-05-26 00:00:00</td>\n",
       "      <td>1975-06-08 00:00:00</td>\n",
       "      <td>1984-06-05 12:00:00</td>\n",
       "      <td>1993-04-28 18:00:00</td>\n",
       "      <td>2004-05-23 00:00:00</td>\n",
       "      <td>NaN</td>\n",
       "    </tr>\n",
       "    <tr>\n",
       "      <th>Hiredate</th>\n",
       "      <td>8950</td>\n",
       "      <td>2020-02-18 20:28:44.782123008</td>\n",
       "      <td>2015-01-01 00:00:00</td>\n",
       "      <td>2017-08-26 00:00:00</td>\n",
       "      <td>2019-12-13 12:00:00</td>\n",
       "      <td>2022-10-17 00:00:00</td>\n",
       "      <td>2024-12-29 00:00:00</td>\n",
       "      <td>NaN</td>\n",
       "    </tr>\n",
       "    <tr>\n",
       "      <th>Termdate</th>\n",
       "      <td>966</td>\n",
       "      <td>2021-08-06 22:00:44.720496896</td>\n",
       "      <td>2015-10-13 00:00:00</td>\n",
       "      <td>2019-08-30 18:00:00</td>\n",
       "      <td>2021-09-21 12:00:00</td>\n",
       "      <td>2023-05-30 00:00:00</td>\n",
       "      <td>2024-12-27 00:00:00</td>\n",
       "      <td>NaN</td>\n",
       "    </tr>\n",
       "    <tr>\n",
       "      <th>Salary</th>\n",
       "      <td>8950.0</td>\n",
       "      <td>70964.21352</td>\n",
       "      <td>51835.0</td>\n",
       "      <td>60920.5</td>\n",
       "      <td>66592.5</td>\n",
       "      <td>78600.5</td>\n",
       "      <td>149377.0</td>\n",
       "      <td>13763.126237</td>\n",
       "    </tr>\n",
       "  </tbody>\n",
       "</table>\n",
       "</div>"
      ],
      "text/plain": [
       "            count                           mean                  min  \\\n",
       "Birthdate    8950  1984-01-27 03:38:19.977653632  1959-05-26 00:00:00   \n",
       "Hiredate     8950  2020-02-18 20:28:44.782123008  2015-01-01 00:00:00   \n",
       "Termdate      966  2021-08-06 22:00:44.720496896  2015-10-13 00:00:00   \n",
       "Salary     8950.0                    70964.21352              51835.0   \n",
       "\n",
       "                           25%                  50%                  75%  \\\n",
       "Birthdate  1975-06-08 00:00:00  1984-06-05 12:00:00  1993-04-28 18:00:00   \n",
       "Hiredate   2017-08-26 00:00:00  2019-12-13 12:00:00  2022-10-17 00:00:00   \n",
       "Termdate   2019-08-30 18:00:00  2021-09-21 12:00:00  2023-05-30 00:00:00   \n",
       "Salary                 60920.5              66592.5              78600.5   \n",
       "\n",
       "                           max           std  \n",
       "Birthdate  2004-05-23 00:00:00           NaN  \n",
       "Hiredate   2024-12-29 00:00:00           NaN  \n",
       "Termdate   2024-12-27 00:00:00           NaN  \n",
       "Salary                149377.0  13763.126237  "
      ]
     },
     "execution_count": 18,
     "metadata": {},
     "output_type": "execute_result"
    }
   ],
   "source": [
    "df.describe().T"
   ]
  },
  {
   "cell_type": "code",
   "execution_count": 59,
   "id": "7659bdaa-a5f6-45b6-8c83-6dc740befe6b",
   "metadata": {},
   "outputs": [
    {
     "data": {
      "text/plain": [
       "Index(['Employee_ID', 'First Name', 'Last Name', 'Gender', 'State', 'City',\n",
       "       'Education Level', 'Birthdate', 'Hiredate', 'Termdate', 'Department',\n",
       "       'Job Title', 'Salary', 'Performance Rating'],\n",
       "      dtype='object')"
      ]
     },
     "execution_count": 59,
     "metadata": {},
     "output_type": "execute_result"
    }
   ],
   "source": [
    "df.columns"
   ]
  },
  {
   "cell_type": "code",
   "execution_count": 60,
   "id": "cccc41d1-f11e-4f28-81f0-e8898080bd6e",
   "metadata": {},
   "outputs": [
    {
     "data": {
      "text/plain": [
       "0      2021-07-05\n",
       "1      2019-06-14\n",
       "2      2021-03-06\n",
       "3      2018-11-06\n",
       "4             NaT\n",
       "          ...    \n",
       "8945          NaT\n",
       "8946          NaT\n",
       "8947          NaT\n",
       "8948          NaT\n",
       "8949          NaT\n",
       "Name: Termdate, Length: 8950, dtype: datetime64[ns]"
      ]
     },
     "execution_count": 60,
     "metadata": {},
     "output_type": "execute_result"
    }
   ],
   "source": [
    "df['Termdate']"
   ]
  },
  {
   "cell_type": "code",
   "execution_count": 21,
   "id": "2c625f8d-bbb2-4b7d-a02d-86711b3e0705",
   "metadata": {},
   "outputs": [
    {
     "data": {
      "text/plain": [
       "Employee_ID           0\n",
       "First Name            0\n",
       "Last Name             0\n",
       "Gender                0\n",
       "State                 0\n",
       "City                  0\n",
       "Education Level       0\n",
       "Birthdate             0\n",
       "Hiredate              0\n",
       "Termdate              0\n",
       "Department            0\n",
       "Job Title             0\n",
       "Salary                0\n",
       "Performance Rating    0\n",
       "dtype: int64"
      ]
     },
     "execution_count": 21,
     "metadata": {},
     "output_type": "execute_result"
    }
   ],
   "source": [
    "df.isna().sum()"
   ]
  },
  {
   "cell_type": "code",
   "execution_count": 22,
   "id": "89f40ac4-886a-483c-83c8-6135e9f3c307",
   "metadata": {},
   "outputs": [
    {
     "data": {
      "text/plain": [
       "Employee_ID                   object\n",
       "First Name                    object\n",
       "Last Name                     object\n",
       "Gender                        object\n",
       "State                         object\n",
       "City                          object\n",
       "Education Level               object\n",
       "Birthdate             datetime64[ns]\n",
       "Hiredate              datetime64[ns]\n",
       "Termdate                      object\n",
       "Department                    object\n",
       "Job Title                     object\n",
       "Salary                         int64\n",
       "Performance Rating            object\n",
       "dtype: object"
      ]
     },
     "execution_count": 22,
     "metadata": {},
     "output_type": "execute_result"
    }
   ],
   "source": [
    "df.dtypes"
   ]
  },
  {
   "cell_type": "code",
   "execution_count": 95,
   "id": "208bb2c0-fa0a-4913-95c1-96f87be268bc",
   "metadata": {},
   "outputs": [
    {
     "data": {
      "text/html": [
       "<div>\n",
       "<style scoped>\n",
       "    .dataframe tbody tr th:only-of-type {\n",
       "        vertical-align: middle;\n",
       "    }\n",
       "\n",
       "    .dataframe tbody tr th {\n",
       "        vertical-align: top;\n",
       "    }\n",
       "\n",
       "    .dataframe thead th {\n",
       "        text-align: right;\n",
       "    }\n",
       "</style>\n",
       "<table border=\"1\" class=\"dataframe\">\n",
       "  <thead>\n",
       "    <tr style=\"text-align: right;\">\n",
       "      <th></th>\n",
       "      <th>Employee_ID</th>\n",
       "      <th>First Name</th>\n",
       "      <th>Last Name</th>\n",
       "      <th>Gender</th>\n",
       "      <th>State</th>\n",
       "      <th>City</th>\n",
       "      <th>Education Level</th>\n",
       "      <th>Birthdate</th>\n",
       "      <th>Hiredate</th>\n",
       "      <th>Termdate</th>\n",
       "      <th>Department</th>\n",
       "      <th>Job Title</th>\n",
       "      <th>Salary</th>\n",
       "      <th>Performance Rating</th>\n",
       "    </tr>\n",
       "  </thead>\n",
       "  <tbody>\n",
       "    <tr>\n",
       "      <th>8940</th>\n",
       "      <td>00-73977067</td>\n",
       "      <td>Mark</td>\n",
       "      <td>Spencer</td>\n",
       "      <td>Female</td>\n",
       "      <td>New York</td>\n",
       "      <td>Buffalo</td>\n",
       "      <td>Bachelor</td>\n",
       "      <td>1979-01-22</td>\n",
       "      <td>2023-12-11</td>\n",
       "      <td>2056</td>\n",
       "      <td>Operations</td>\n",
       "      <td>Logistics Coordinator</td>\n",
       "      <td>63864</td>\n",
       "      <td>Excellent</td>\n",
       "    </tr>\n",
       "    <tr>\n",
       "      <th>8941</th>\n",
       "      <td>00-43446562</td>\n",
       "      <td>Eric</td>\n",
       "      <td>Brown</td>\n",
       "      <td>Female</td>\n",
       "      <td>New York</td>\n",
       "      <td>New York City</td>\n",
       "      <td>Bachelor</td>\n",
       "      <td>1994-12-31</td>\n",
       "      <td>2023-05-04</td>\n",
       "      <td>2056</td>\n",
       "      <td>Operations</td>\n",
       "      <td>Logistics Coordinator</td>\n",
       "      <td>55987</td>\n",
       "      <td>Good</td>\n",
       "    </tr>\n",
       "    <tr>\n",
       "      <th>8942</th>\n",
       "      <td>00-32657392</td>\n",
       "      <td>James</td>\n",
       "      <td>Coleman</td>\n",
       "      <td>Female</td>\n",
       "      <td>New York</td>\n",
       "      <td>Rochester</td>\n",
       "      <td>High School</td>\n",
       "      <td>1967-09-26</td>\n",
       "      <td>2017-09-28</td>\n",
       "      <td>2056</td>\n",
       "      <td>Marketing</td>\n",
       "      <td>SEO Specialist</td>\n",
       "      <td>77404</td>\n",
       "      <td>Good</td>\n",
       "    </tr>\n",
       "    <tr>\n",
       "      <th>8943</th>\n",
       "      <td>00-50425690</td>\n",
       "      <td>Timothy</td>\n",
       "      <td>Joyce</td>\n",
       "      <td>Female</td>\n",
       "      <td>New York</td>\n",
       "      <td>Rochester</td>\n",
       "      <td>Bachelor</td>\n",
       "      <td>1979-04-18</td>\n",
       "      <td>2019-02-07</td>\n",
       "      <td>2056</td>\n",
       "      <td>Customer Service</td>\n",
       "      <td>Customer Service Representative</td>\n",
       "      <td>57382</td>\n",
       "      <td>Satisfactory</td>\n",
       "    </tr>\n",
       "    <tr>\n",
       "      <th>8944</th>\n",
       "      <td>00-53546572</td>\n",
       "      <td>Todd</td>\n",
       "      <td>Crosby</td>\n",
       "      <td>Female</td>\n",
       "      <td>New York</td>\n",
       "      <td>Rochester</td>\n",
       "      <td>Master</td>\n",
       "      <td>1988-04-23</td>\n",
       "      <td>2015-08-18</td>\n",
       "      <td>2056</td>\n",
       "      <td>IT</td>\n",
       "      <td>Software Developer</td>\n",
       "      <td>95920</td>\n",
       "      <td>Good</td>\n",
       "    </tr>\n",
       "    <tr>\n",
       "      <th>8945</th>\n",
       "      <td>00-29226627</td>\n",
       "      <td>Cory</td>\n",
       "      <td>Mccall</td>\n",
       "      <td>Male</td>\n",
       "      <td>New York</td>\n",
       "      <td>Buffalo</td>\n",
       "      <td>Bachelor</td>\n",
       "      <td>1969-07-28</td>\n",
       "      <td>2021-05-29</td>\n",
       "      <td>2056</td>\n",
       "      <td>Operations</td>\n",
       "      <td>Inventory Specialist</td>\n",
       "      <td>64265</td>\n",
       "      <td>Needs Improvement</td>\n",
       "    </tr>\n",
       "    <tr>\n",
       "      <th>8946</th>\n",
       "      <td>00-15091628</td>\n",
       "      <td>Brian</td>\n",
       "      <td>Nguyen</td>\n",
       "      <td>Male</td>\n",
       "      <td>New York</td>\n",
       "      <td>New York City</td>\n",
       "      <td>Bachelor</td>\n",
       "      <td>1984-05-22</td>\n",
       "      <td>2022-07-06</td>\n",
       "      <td>2056</td>\n",
       "      <td>Operations</td>\n",
       "      <td>Inventory Specialist</td>\n",
       "      <td>63570</td>\n",
       "      <td>Excellent</td>\n",
       "    </tr>\n",
       "    <tr>\n",
       "      <th>8947</th>\n",
       "      <td>00-68025539</td>\n",
       "      <td>Corey</td>\n",
       "      <td>Miles</td>\n",
       "      <td>Female</td>\n",
       "      <td>Michigan</td>\n",
       "      <td>Detroit</td>\n",
       "      <td>High School</td>\n",
       "      <td>2001-08-05</td>\n",
       "      <td>2018-02-03</td>\n",
       "      <td>2056</td>\n",
       "      <td>HR</td>\n",
       "      <td>Recruiter</td>\n",
       "      <td>73208</td>\n",
       "      <td>Needs Improvement</td>\n",
       "    </tr>\n",
       "    <tr>\n",
       "      <th>8948</th>\n",
       "      <td>00-19066901</td>\n",
       "      <td>Krystal</td>\n",
       "      <td>Wilson</td>\n",
       "      <td>Male</td>\n",
       "      <td>North Carolina</td>\n",
       "      <td>Raleigh</td>\n",
       "      <td>Bachelor</td>\n",
       "      <td>1962-09-23</td>\n",
       "      <td>2023-12-07</td>\n",
       "      <td>2056</td>\n",
       "      <td>Finance</td>\n",
       "      <td>Accountant</td>\n",
       "      <td>95028</td>\n",
       "      <td>Good</td>\n",
       "    </tr>\n",
       "    <tr>\n",
       "      <th>8949</th>\n",
       "      <td>00-50413766</td>\n",
       "      <td>Derek</td>\n",
       "      <td>Thornton</td>\n",
       "      <td>Female</td>\n",
       "      <td>New York</td>\n",
       "      <td>Rochester</td>\n",
       "      <td>PhD</td>\n",
       "      <td>1993-08-04</td>\n",
       "      <td>2017-08-15</td>\n",
       "      <td>2056</td>\n",
       "      <td>Sales</td>\n",
       "      <td>Sales Specialist</td>\n",
       "      <td>68351</td>\n",
       "      <td>Good</td>\n",
       "    </tr>\n",
       "  </tbody>\n",
       "</table>\n",
       "</div>"
      ],
      "text/plain": [
       "      Employee_ID First Name Last Name  Gender           State           City  \\\n",
       "8940  00-73977067       Mark   Spencer  Female        New York        Buffalo   \n",
       "8941  00-43446562       Eric     Brown  Female        New York  New York City   \n",
       "8942  00-32657392      James   Coleman  Female        New York      Rochester   \n",
       "8943  00-50425690    Timothy     Joyce  Female        New York      Rochester   \n",
       "8944  00-53546572       Todd    Crosby  Female        New York      Rochester   \n",
       "8945  00-29226627       Cory    Mccall    Male        New York        Buffalo   \n",
       "8946  00-15091628      Brian    Nguyen    Male        New York  New York City   \n",
       "8947  00-68025539      Corey     Miles  Female        Michigan        Detroit   \n",
       "8948  00-19066901    Krystal    Wilson    Male  North Carolina        Raleigh   \n",
       "8949  00-50413766      Derek  Thornton  Female        New York      Rochester   \n",
       "\n",
       "     Education Level  Birthdate   Hiredate Termdate        Department  \\\n",
       "8940        Bachelor 1979-01-22 2023-12-11     2056        Operations   \n",
       "8941        Bachelor 1994-12-31 2023-05-04     2056        Operations   \n",
       "8942     High School 1967-09-26 2017-09-28     2056         Marketing   \n",
       "8943        Bachelor 1979-04-18 2019-02-07     2056  Customer Service   \n",
       "8944          Master 1988-04-23 2015-08-18     2056                IT   \n",
       "8945        Bachelor 1969-07-28 2021-05-29     2056        Operations   \n",
       "8946        Bachelor 1984-05-22 2022-07-06     2056        Operations   \n",
       "8947     High School 2001-08-05 2018-02-03     2056                HR   \n",
       "8948        Bachelor 1962-09-23 2023-12-07     2056           Finance   \n",
       "8949             PhD 1993-08-04 2017-08-15     2056             Sales   \n",
       "\n",
       "                            Job Title  Salary Performance Rating  \n",
       "8940            Logistics Coordinator   63864          Excellent  \n",
       "8941            Logistics Coordinator   55987               Good  \n",
       "8942                   SEO Specialist   77404               Good  \n",
       "8943  Customer Service Representative   57382       Satisfactory  \n",
       "8944               Software Developer   95920               Good  \n",
       "8945             Inventory Specialist   64265  Needs Improvement  \n",
       "8946             Inventory Specialist   63570          Excellent  \n",
       "8947                        Recruiter   73208  Needs Improvement  \n",
       "8948                       Accountant   95028               Good  \n",
       "8949                 Sales Specialist   68351               Good  "
      ]
     },
     "execution_count": 95,
     "metadata": {},
     "output_type": "execute_result"
    }
   ],
   "source": [
    "df.tail(10)"
   ]
  },
  {
   "cell_type": "code",
   "execution_count": 23,
   "id": "e4c992ca-a994-4802-8368-dc773605e2ce",
   "metadata": {},
   "outputs": [],
   "source": [
    "df['Termdate'] = pd.to_datetime(df['Termdate'])"
   ]
  },
  {
   "cell_type": "code",
   "execution_count": 24,
   "id": "c9301fe6-a050-4512-bb37-479d6a1cbe1d",
   "metadata": {},
   "outputs": [
    {
     "data": {
      "text/plain": [
       "Employee_ID                   object\n",
       "First Name                    object\n",
       "Last Name                     object\n",
       "Gender                        object\n",
       "State                         object\n",
       "City                          object\n",
       "Education Level               object\n",
       "Birthdate             datetime64[ns]\n",
       "Hiredate              datetime64[ns]\n",
       "Termdate              datetime64[ns]\n",
       "Department                    object\n",
       "Job Title                     object\n",
       "Salary                         int64\n",
       "Performance Rating            object\n",
       "dtype: object"
      ]
     },
     "execution_count": 24,
     "metadata": {},
     "output_type": "execute_result"
    }
   ],
   "source": [
    "df.dtypes"
   ]
  },
  {
   "cell_type": "code",
   "execution_count": 25,
   "id": "16bf9d2e-fd62-4ef0-8a79-b3cbe8ba0030",
   "metadata": {},
   "outputs": [
    {
     "data": {
      "text/html": [
       "<div>\n",
       "<style scoped>\n",
       "    .dataframe tbody tr th:only-of-type {\n",
       "        vertical-align: middle;\n",
       "    }\n",
       "\n",
       "    .dataframe tbody tr th {\n",
       "        vertical-align: top;\n",
       "    }\n",
       "\n",
       "    .dataframe thead th {\n",
       "        text-align: right;\n",
       "    }\n",
       "</style>\n",
       "<table border=\"1\" class=\"dataframe\">\n",
       "  <thead>\n",
       "    <tr style=\"text-align: right;\">\n",
       "      <th></th>\n",
       "      <th>Employee_ID</th>\n",
       "      <th>First Name</th>\n",
       "      <th>Last Name</th>\n",
       "      <th>Gender</th>\n",
       "      <th>State</th>\n",
       "      <th>City</th>\n",
       "      <th>Education Level</th>\n",
       "      <th>Birthdate</th>\n",
       "      <th>Hiredate</th>\n",
       "      <th>Termdate</th>\n",
       "      <th>Department</th>\n",
       "      <th>Job Title</th>\n",
       "      <th>Salary</th>\n",
       "      <th>Performance Rating</th>\n",
       "    </tr>\n",
       "  </thead>\n",
       "  <tbody>\n",
       "    <tr>\n",
       "      <th>8945</th>\n",
       "      <td>00-29226627</td>\n",
       "      <td>Cory</td>\n",
       "      <td>Mccall</td>\n",
       "      <td>Male</td>\n",
       "      <td>New York</td>\n",
       "      <td>Buffalo</td>\n",
       "      <td>Bachelor</td>\n",
       "      <td>1969-07-28</td>\n",
       "      <td>2021-05-29</td>\n",
       "      <td>1970-01-01 00:00:00.000002056</td>\n",
       "      <td>Operations</td>\n",
       "      <td>Inventory Specialist</td>\n",
       "      <td>64265</td>\n",
       "      <td>Needs Improvement</td>\n",
       "    </tr>\n",
       "    <tr>\n",
       "      <th>8946</th>\n",
       "      <td>00-15091628</td>\n",
       "      <td>Brian</td>\n",
       "      <td>Nguyen</td>\n",
       "      <td>Male</td>\n",
       "      <td>New York</td>\n",
       "      <td>New York City</td>\n",
       "      <td>Bachelor</td>\n",
       "      <td>1984-05-22</td>\n",
       "      <td>2022-07-06</td>\n",
       "      <td>1970-01-01 00:00:00.000002056</td>\n",
       "      <td>Operations</td>\n",
       "      <td>Inventory Specialist</td>\n",
       "      <td>63570</td>\n",
       "      <td>Excellent</td>\n",
       "    </tr>\n",
       "    <tr>\n",
       "      <th>8947</th>\n",
       "      <td>00-68025539</td>\n",
       "      <td>Corey</td>\n",
       "      <td>Miles</td>\n",
       "      <td>Female</td>\n",
       "      <td>Michigan</td>\n",
       "      <td>Detroit</td>\n",
       "      <td>High School</td>\n",
       "      <td>2001-08-05</td>\n",
       "      <td>2018-02-03</td>\n",
       "      <td>1970-01-01 00:00:00.000002056</td>\n",
       "      <td>HR</td>\n",
       "      <td>Recruiter</td>\n",
       "      <td>73208</td>\n",
       "      <td>Needs Improvement</td>\n",
       "    </tr>\n",
       "    <tr>\n",
       "      <th>8948</th>\n",
       "      <td>00-19066901</td>\n",
       "      <td>Krystal</td>\n",
       "      <td>Wilson</td>\n",
       "      <td>Male</td>\n",
       "      <td>North Carolina</td>\n",
       "      <td>Raleigh</td>\n",
       "      <td>Bachelor</td>\n",
       "      <td>1962-09-23</td>\n",
       "      <td>2023-12-07</td>\n",
       "      <td>1970-01-01 00:00:00.000002056</td>\n",
       "      <td>Finance</td>\n",
       "      <td>Accountant</td>\n",
       "      <td>95028</td>\n",
       "      <td>Good</td>\n",
       "    </tr>\n",
       "    <tr>\n",
       "      <th>8949</th>\n",
       "      <td>00-50413766</td>\n",
       "      <td>Derek</td>\n",
       "      <td>Thornton</td>\n",
       "      <td>Female</td>\n",
       "      <td>New York</td>\n",
       "      <td>Rochester</td>\n",
       "      <td>PhD</td>\n",
       "      <td>1993-08-04</td>\n",
       "      <td>2017-08-15</td>\n",
       "      <td>1970-01-01 00:00:00.000002056</td>\n",
       "      <td>Sales</td>\n",
       "      <td>Sales Specialist</td>\n",
       "      <td>68351</td>\n",
       "      <td>Good</td>\n",
       "    </tr>\n",
       "  </tbody>\n",
       "</table>\n",
       "</div>"
      ],
      "text/plain": [
       "      Employee_ID First Name Last Name  Gender           State           City  \\\n",
       "8945  00-29226627       Cory    Mccall    Male        New York        Buffalo   \n",
       "8946  00-15091628      Brian    Nguyen    Male        New York  New York City   \n",
       "8947  00-68025539      Corey     Miles  Female        Michigan        Detroit   \n",
       "8948  00-19066901    Krystal    Wilson    Male  North Carolina        Raleigh   \n",
       "8949  00-50413766      Derek  Thornton  Female        New York      Rochester   \n",
       "\n",
       "     Education Level  Birthdate   Hiredate                      Termdate  \\\n",
       "8945        Bachelor 1969-07-28 2021-05-29 1970-01-01 00:00:00.000002056   \n",
       "8946        Bachelor 1984-05-22 2022-07-06 1970-01-01 00:00:00.000002056   \n",
       "8947     High School 2001-08-05 2018-02-03 1970-01-01 00:00:00.000002056   \n",
       "8948        Bachelor 1962-09-23 2023-12-07 1970-01-01 00:00:00.000002056   \n",
       "8949             PhD 1993-08-04 2017-08-15 1970-01-01 00:00:00.000002056   \n",
       "\n",
       "      Department             Job Title  Salary Performance Rating  \n",
       "8945  Operations  Inventory Specialist   64265  Needs Improvement  \n",
       "8946  Operations  Inventory Specialist   63570          Excellent  \n",
       "8947          HR             Recruiter   73208  Needs Improvement  \n",
       "8948     Finance            Accountant   95028               Good  \n",
       "8949       Sales      Sales Specialist   68351               Good  "
      ]
     },
     "execution_count": 25,
     "metadata": {},
     "output_type": "execute_result"
    }
   ],
   "source": [
    "df.tail()"
   ]
  },
  {
   "cell_type": "code",
   "execution_count": 26,
   "id": "275691ce-d524-46c4-8303-7a6d36c6276d",
   "metadata": {},
   "outputs": [],
   "source": [
    "df['Termdate'] = df['Termdate'].replace(\n",
    "    pd.Timestamp('1970-01-01 00:00:00.000002056'), \n",
    "    pd.Timestamp('2099-12-31'))"
   ]
  },
  {
   "cell_type": "code",
   "execution_count": 27,
   "id": "e65f2ee7-391a-4ac5-a650-26e9aadfdc7f",
   "metadata": {},
   "outputs": [
    {
     "data": {
      "text/plain": [
       "0      2021-07-05\n",
       "1      2019-06-14\n",
       "2      2021-03-06\n",
       "3      2018-11-06\n",
       "4      2099-12-31\n",
       "          ...    \n",
       "8945   2099-12-31\n",
       "8946   2099-12-31\n",
       "8947   2099-12-31\n",
       "8948   2099-12-31\n",
       "8949   2099-12-31\n",
       "Name: Termdate, Length: 8950, dtype: datetime64[ns]"
      ]
     },
     "execution_count": 27,
     "metadata": {},
     "output_type": "execute_result"
    }
   ],
   "source": [
    "df['Termdate']"
   ]
  },
  {
   "cell_type": "code",
   "execution_count": 105,
   "id": "7f00efb7-e700-4412-b36d-2c4d3423c074",
   "metadata": {},
   "outputs": [
    {
     "data": {
      "text/plain": [
       "Index(['Employee_ID', 'First Name', 'Last Name', 'Gender', 'State', 'City',\n",
       "       'Education Level', 'Birthdate', 'Hiredate', 'Termdate', 'Department',\n",
       "       'Job Title', 'Salary', 'Performance Rating'],\n",
       "      dtype='object')"
      ]
     },
     "execution_count": 105,
     "metadata": {},
     "output_type": "execute_result"
    }
   ],
   "source": [
    "df.columns"
   ]
  },
  {
   "cell_type": "code",
   "execution_count": 30,
   "id": "180df310-2112-4320-aff2-de9b2d62a27c",
   "metadata": {},
   "outputs": [
    {
     "data": {
      "text/plain": [
       "np.int64(0)"
      ]
     },
     "execution_count": 30,
     "metadata": {},
     "output_type": "execute_result"
    }
   ],
   "source": [
    "df.duplicated().sum()"
   ]
  },
  {
   "cell_type": "code",
   "execution_count": 28,
   "id": "1fbf98b6-fe92-47e9-95af-c4b78539866f",
   "metadata": {},
   "outputs": [
    {
     "data": {
      "text/plain": [
       "0       Customer Service\n",
       "1                     IT\n",
       "2             Operations\n",
       "3             Operations\n",
       "4             Operations\n",
       "              ...       \n",
       "8945          Operations\n",
       "8946          Operations\n",
       "8947                  HR\n",
       "8948             Finance\n",
       "8949               Sales\n",
       "Name: Department, Length: 8950, dtype: object"
      ]
     },
     "execution_count": 28,
     "metadata": {},
     "output_type": "execute_result"
    }
   ],
   "source": [
    "df['Department']"
   ]
  },
  {
   "cell_type": "code",
   "execution_count": 115,
   "id": "eb12e02e-d83c-4a92-9f69-e3659bf0d9bb",
   "metadata": {},
   "outputs": [
    {
     "data": {
      "text/plain": [
       "array(['High School', 'Bachelor', 'PhD', 'Master'], dtype=object)"
      ]
     },
     "execution_count": 115,
     "metadata": {},
     "output_type": "execute_result"
    }
   ],
   "source": [
    "df['Education Level'].unique()"
   ]
  },
  {
   "cell_type": "raw",
   "id": "7d874f19-e496-4971-8fa0-71f71959c52f",
   "metadata": {},
   "source": [
    "Reporting"
   ]
  },
  {
   "cell_type": "code",
   "execution_count": 125,
   "id": "478c27b3-79af-4cd3-ae3b-3760caa61056",
   "metadata": {},
   "outputs": [],
   "source": [
    "total_employees = df['Employee_ID'].nunique()"
   ]
  },
  {
   "cell_type": "code",
   "execution_count": 126,
   "id": "5afd385e-97d9-4bc3-9457-973b3c770a4c",
   "metadata": {},
   "outputs": [
    {
     "data": {
      "text/plain": [
       "8950"
      ]
     },
     "execution_count": 126,
     "metadata": {},
     "output_type": "execute_result"
    }
   ],
   "source": [
    "total_employees"
   ]
  },
  {
   "cell_type": "code",
   "execution_count": 129,
   "id": "ca4f709a-7404-4c09-9534-42b61467be06",
   "metadata": {},
   "outputs": [
    {
     "data": {
      "text/plain": [
       "Education Level  Gender\n",
       "Bachelor         Female    2489\n",
       "                 Male      2927\n",
       "High School      Female     855\n",
       "                 Male       964\n",
       "Master           Female     572\n",
       "                 Male       665\n",
       "PhD              Female     233\n",
       "                 Male       245\n",
       "Name: Employee_ID, dtype: int64"
      ]
     },
     "execution_count": 129,
     "metadata": {},
     "output_type": "execute_result"
    }
   ],
   "source": [
    "\n",
    "df.groupby(['Education Level','Gender'])['Employee_ID'].count()"
   ]
  },
  {
   "cell_type": "code",
   "execution_count": 63,
   "id": "91d4091e-15ce-4552-be8d-c83d6a298b25",
   "metadata": {},
   "outputs": [
    {
     "data": {
      "text/plain": [
       "Index(['Employee_ID', 'First Name', 'Last Name', 'Gender', 'State', 'City',\n",
       "       'Education Level', 'Birthdate', 'Hiredate', 'Termdate', 'Department',\n",
       "       'Job Title', 'Salary', 'Performance Rating', 'Age', 'experience'],\n",
       "      dtype='object')"
      ]
     },
     "execution_count": 63,
     "metadata": {},
     "output_type": "execute_result"
    }
   ],
   "source": [
    "df.columns"
   ]
  },
  {
   "cell_type": "code",
   "execution_count": 51,
   "id": "900a5999-c448-4b78-ba50-1df02bc8b688",
   "metadata": {},
   "outputs": [],
   "source": [
    "#average age for employess\n",
    "from datetime import datetime\n",
    "reference_Time = (pd.Timestamp('2025-07-25'))"
   ]
  },
  {
   "cell_type": "code",
   "execution_count": 52,
   "id": "55340cff-43b2-4773-b67b-c1b183906534",
   "metadata": {},
   "outputs": [
    {
     "data": {
      "text/html": [
       "<div>\n",
       "<style scoped>\n",
       "    .dataframe tbody tr th:only-of-type {\n",
       "        vertical-align: middle;\n",
       "    }\n",
       "\n",
       "    .dataframe tbody tr th {\n",
       "        vertical-align: top;\n",
       "    }\n",
       "\n",
       "    .dataframe thead th {\n",
       "        text-align: right;\n",
       "    }\n",
       "</style>\n",
       "<table border=\"1\" class=\"dataframe\">\n",
       "  <thead>\n",
       "    <tr style=\"text-align: right;\">\n",
       "      <th></th>\n",
       "      <th>Age</th>\n",
       "      <th>Birthdate</th>\n",
       "    </tr>\n",
       "  </thead>\n",
       "  <tbody>\n",
       "    <tr>\n",
       "      <th>0</th>\n",
       "      <td>45</td>\n",
       "      <td>1980-02-13</td>\n",
       "    </tr>\n",
       "    <tr>\n",
       "      <th>1</th>\n",
       "      <td>37</td>\n",
       "      <td>1987-09-22</td>\n",
       "    </tr>\n",
       "    <tr>\n",
       "      <th>2</th>\n",
       "      <td>31</td>\n",
       "      <td>1994-05-19</td>\n",
       "    </tr>\n",
       "    <tr>\n",
       "      <th>3</th>\n",
       "      <td>45</td>\n",
       "      <td>1980-04-18</td>\n",
       "    </tr>\n",
       "    <tr>\n",
       "      <th>4</th>\n",
       "      <td>40</td>\n",
       "      <td>1985-04-07</td>\n",
       "    </tr>\n",
       "    <tr>\n",
       "      <th>...</th>\n",
       "      <td>...</td>\n",
       "      <td>...</td>\n",
       "    </tr>\n",
       "    <tr>\n",
       "      <th>8945</th>\n",
       "      <td>56</td>\n",
       "      <td>1969-07-28</td>\n",
       "    </tr>\n",
       "    <tr>\n",
       "      <th>8946</th>\n",
       "      <td>41</td>\n",
       "      <td>1984-05-22</td>\n",
       "    </tr>\n",
       "    <tr>\n",
       "      <th>8947</th>\n",
       "      <td>23</td>\n",
       "      <td>2001-08-05</td>\n",
       "    </tr>\n",
       "    <tr>\n",
       "      <th>8948</th>\n",
       "      <td>62</td>\n",
       "      <td>1962-09-23</td>\n",
       "    </tr>\n",
       "    <tr>\n",
       "      <th>8949</th>\n",
       "      <td>31</td>\n",
       "      <td>1993-08-04</td>\n",
       "    </tr>\n",
       "  </tbody>\n",
       "</table>\n",
       "<p>8950 rows × 2 columns</p>\n",
       "</div>"
      ],
      "text/plain": [
       "      Age  Birthdate\n",
       "0      45 1980-02-13\n",
       "1      37 1987-09-22\n",
       "2      31 1994-05-19\n",
       "3      45 1980-04-18\n",
       "4      40 1985-04-07\n",
       "...   ...        ...\n",
       "8945   56 1969-07-28\n",
       "8946   41 1984-05-22\n",
       "8947   23 2001-08-05\n",
       "8948   62 1962-09-23\n",
       "8949   31 1993-08-04\n",
       "\n",
       "[8950 rows x 2 columns]"
      ]
     },
     "execution_count": 52,
     "metadata": {},
     "output_type": "execute_result"
    }
   ],
   "source": [
    "df['Age'] = (reference_Time - df['Birthdate']).dt.days // 365\n",
    "\n",
    "df[['Age','Birthdate']] "
   ]
  },
  {
   "cell_type": "code",
   "execution_count": 55,
   "id": "15ac4344-9277-4b5c-ac7b-a4136b5d0538",
   "metadata": {},
   "outputs": [
    {
     "data": {
      "text/plain": [
       "np.float64(41.017877094972064)"
      ]
     },
     "execution_count": 55,
     "metadata": {},
     "output_type": "execute_result"
    }
   ],
   "source": [
    "df['Age'].mean()"
   ]
  },
  {
   "cell_type": "code",
   "execution_count": 56,
   "id": "deffd4be-7d37-47e2-a7de-2d8fb30172f3",
   "metadata": {},
   "outputs": [],
   "source": [
    "df['experience'] = (reference_Time - df['Hiredate']).dt.days//365"
   ]
  },
  {
   "cell_type": "code",
   "execution_count": 59,
   "id": "a199c917-b8ab-466e-8911-38d2dde3a044",
   "metadata": {},
   "outputs": [
    {
     "data": {
      "text/plain": [
       "np.float64(4.936983240223464)"
      ]
     },
     "execution_count": 59,
     "metadata": {},
     "output_type": "execute_result"
    }
   ],
   "source": [
    "df['experience'].mean()"
   ]
  },
  {
   "cell_type": "code",
   "execution_count": 60,
   "id": "a1113804-d0a0-4496-8505-9e2e34c2e872",
   "metadata": {},
   "outputs": [
    {
     "data": {
      "text/plain": [
       "np.int64(635129711)"
      ]
     },
     "execution_count": 60,
     "metadata": {},
     "output_type": "execute_result"
    }
   ],
   "source": [
    "df['Salary'].sum()"
   ]
  },
  {
   "cell_type": "code",
   "execution_count": 64,
   "id": "9cbf89d2-8538-461f-90b2-2acf593a0e0e",
   "metadata": {},
   "outputs": [
    {
     "data": {
      "text/plain": [
       "Department        Job Title                      \n",
       "Customer Service  Customer Service Manager            6273917\n",
       "                  Customer Service Representative    30947951\n",
       "                  Help Desk Technician               35343927\n",
       "                  Support Specialist                 37580725\n",
       "Finance           Accountant                         12708115\n",
       "                  Accounts Payable Specialist         6809609\n",
       "                  Finance Manager                     1126287\n",
       "                  Financial Analyst                  13911906\n",
       "HR                HR Assistant                        1819339\n",
       "                  HR Coordinator                      3521277\n",
       "                  HR Manager                            82203\n",
       "                  Recruiter                           5610127\n",
       "IT                IT Manager                          3189391\n",
       "                  IT Support Specialist              27530500\n",
       "                  Software Developer                 58570593\n",
       "                  System Administrator               23930706\n",
       "Marketing         Content Creator                    18864783\n",
       "                  Marketing Coordinator              14109139\n",
       "                  Marketing Manager                   2782718\n",
       "                  SEO Specialist                     12822539\n",
       "Operations        Inventory Specialist               64342536\n",
       "                  Logistics Coordinator              66949972\n",
       "                  Operations Analyst                 41036891\n",
       "                  Operations Manager                  5428481\n",
       "Sales             Sales Consultant                   41144089\n",
       "                  Sales Manager                       5397366\n",
       "                  Sales Representative               50894096\n",
       "                  Sales Specialist                   42400528\n",
       "Name: Salary, dtype: int64"
      ]
     },
     "execution_count": 64,
     "metadata": {},
     "output_type": "execute_result"
    }
   ],
   "source": [
    "df.groupby(['Department','Job Title'])['Salary'].sum()"
   ]
  },
  {
   "cell_type": "code",
   "execution_count": 73,
   "id": "58074ca5-0e53-4f0a-908d-1952f333bbc4",
   "metadata": {},
   "outputs": [
    {
     "data": {
      "text/html": [
       "<div>\n",
       "<style scoped>\n",
       "    .dataframe tbody tr th:only-of-type {\n",
       "        vertical-align: middle;\n",
       "    }\n",
       "\n",
       "    .dataframe tbody tr th {\n",
       "        vertical-align: top;\n",
       "    }\n",
       "\n",
       "    .dataframe thead th {\n",
       "        text-align: right;\n",
       "    }\n",
       "</style>\n",
       "<table border=\"1\" class=\"dataframe\">\n",
       "  <thead>\n",
       "    <tr style=\"text-align: right;\">\n",
       "      <th></th>\n",
       "      <th>Age</th>\n",
       "      <th>experience</th>\n",
       "    </tr>\n",
       "    <tr>\n",
       "      <th>Gender</th>\n",
       "      <th></th>\n",
       "      <th></th>\n",
       "    </tr>\n",
       "  </thead>\n",
       "  <tbody>\n",
       "    <tr>\n",
       "      <th>Female</th>\n",
       "      <td>41.211135</td>\n",
       "      <td>4.921427</td>\n",
       "    </tr>\n",
       "    <tr>\n",
       "      <th>Male</th>\n",
       "      <td>40.850864</td>\n",
       "      <td>4.950427</td>\n",
       "    </tr>\n",
       "  </tbody>\n",
       "</table>\n",
       "</div>"
      ],
      "text/plain": [
       "              Age  experience\n",
       "Gender                       \n",
       "Female  41.211135    4.921427\n",
       "Male    40.850864    4.950427"
      ]
     },
     "execution_count": 73,
     "metadata": {},
     "output_type": "execute_result"
    }
   ],
   "source": [
    "df.groupby('Gender').agg({\n",
    "    'Age':'mean',\n",
    "    'experience':'mean'\n",
    "})\n",
    "\n",
    "           "
   ]
  },
  {
   "cell_type": "code",
   "execution_count": 94,
   "id": "9b1ff264-57df-42fd-a7b5-869a64852aae",
   "metadata": {},
   "outputs": [],
   "source": [
    "df['Performance Rating'] = df['Performance Rating'].astype(str)\n"
   ]
  },
  {
   "cell_type": "code",
   "execution_count": 95,
   "id": "d4a590e6-e5eb-432c-a950-cb44e75fd641",
   "metadata": {},
   "outputs": [
    {
     "data": {
      "text/plain": [
       "Employee_ID                   object\n",
       "First Name                    object\n",
       "Last Name                     object\n",
       "Gender                        object\n",
       "State                         object\n",
       "City                          object\n",
       "Education Level               object\n",
       "Birthdate             datetime64[ns]\n",
       "Hiredate              datetime64[ns]\n",
       "Termdate              datetime64[ns]\n",
       "Department                    object\n",
       "Job Title                     object\n",
       "Salary                         int64\n",
       "Performance Rating            object\n",
       "Age                            int64\n",
       "experience                     int64\n",
       "dtype: object"
      ]
     },
     "execution_count": 95,
     "metadata": {},
     "output_type": "execute_result"
    }
   ],
   "source": [
    "df.dtypes\n"
   ]
  },
  {
   "cell_type": "code",
   "execution_count": 96,
   "id": "7955f98d-9fe9-49ad-8587-09a94f0bf949",
   "metadata": {},
   "outputs": [
    {
     "data": {
      "text/plain": [
       "0    nan\n",
       "1    nan\n",
       "2    nan\n",
       "3    nan\n",
       "4    nan\n",
       "Name: Performance Rating, dtype: object"
      ]
     },
     "execution_count": 96,
     "metadata": {},
     "output_type": "execute_result"
    }
   ],
   "source": [
    "df['Performance Rating'].head()"
   ]
  },
  {
   "cell_type": "code",
   "execution_count": 97,
   "id": "0a475934-d247-47e9-bf2c-9db07495341b",
   "metadata": {},
   "outputs": [
    {
     "data": {
      "text/plain": [
       "Employee_ID           0\n",
       "First Name            0\n",
       "Last Name             0\n",
       "Gender                0\n",
       "State                 0\n",
       "City                  0\n",
       "Education Level       0\n",
       "Birthdate             0\n",
       "Hiredate              0\n",
       "Termdate              0\n",
       "Department            0\n",
       "Job Title             0\n",
       "Salary                0\n",
       "Performance Rating    0\n",
       "Age                   0\n",
       "experience            0\n",
       "dtype: int64"
      ]
     },
     "execution_count": 97,
     "metadata": {},
     "output_type": "execute_result"
    }
   ],
   "source": [
    "\n",
    "df.isna().sum()"
   ]
  },
  {
   "cell_type": "code",
   "execution_count": 118,
   "id": "dd8966a3-ba08-4464-b4fc-88a1c0ab4f8f",
   "metadata": {},
   "outputs": [
    {
     "data": {
      "text/html": [
       "<div>\n",
       "<style scoped>\n",
       "    .dataframe tbody tr th:only-of-type {\n",
       "        vertical-align: middle;\n",
       "    }\n",
       "\n",
       "    .dataframe tbody tr th {\n",
       "        vertical-align: top;\n",
       "    }\n",
       "\n",
       "    .dataframe thead th {\n",
       "        text-align: right;\n",
       "    }\n",
       "</style>\n",
       "<table border=\"1\" class=\"dataframe\">\n",
       "  <thead>\n",
       "    <tr style=\"text-align: right;\">\n",
       "      <th></th>\n",
       "      <th>Employee_ID</th>\n",
       "      <th>First Name</th>\n",
       "      <th>Last Name</th>\n",
       "      <th>Gender</th>\n",
       "      <th>State</th>\n",
       "      <th>City</th>\n",
       "      <th>Education Level</th>\n",
       "      <th>Birthdate</th>\n",
       "      <th>Hiredate</th>\n",
       "      <th>Termdate</th>\n",
       "      <th>Department</th>\n",
       "      <th>Job Title</th>\n",
       "      <th>Salary</th>\n",
       "      <th>Performance Rating</th>\n",
       "      <th>Age</th>\n",
       "      <th>experience</th>\n",
       "    </tr>\n",
       "  </thead>\n",
       "  <tbody>\n",
       "    <tr>\n",
       "      <th>2981</th>\n",
       "      <td>00-28703143</td>\n",
       "      <td>Janice</td>\n",
       "      <td>Bolton</td>\n",
       "      <td>Male</td>\n",
       "      <td>New York</td>\n",
       "      <td>Buffalo</td>\n",
       "      <td>High School</td>\n",
       "      <td>1975-12-19</td>\n",
       "      <td>2017-11-29</td>\n",
       "      <td>2099-12-31</td>\n",
       "      <td>Marketing</td>\n",
       "      <td>SEO Specialist</td>\n",
       "      <td>57419</td>\n",
       "      <td>nan</td>\n",
       "      <td>49</td>\n",
       "      <td>7</td>\n",
       "    </tr>\n",
       "  </tbody>\n",
       "</table>\n",
       "</div>"
      ],
      "text/plain": [
       "      Employee_ID First Name Last Name Gender     State     City  \\\n",
       "2981  00-28703143     Janice    Bolton   Male  New York  Buffalo   \n",
       "\n",
       "     Education Level  Birthdate   Hiredate   Termdate Department  \\\n",
       "2981     High School 1975-12-19 2017-11-29 2099-12-31  Marketing   \n",
       "\n",
       "           Job Title  Salary Performance Rating  Age  experience  \n",
       "2981  SEO Specialist   57419                nan   49           7  "
      ]
     },
     "execution_count": 118,
     "metadata": {},
     "output_type": "execute_result"
    }
   ],
   "source": [
    "df.sample()"
   ]
  },
  {
   "cell_type": "code",
   "execution_count": 120,
   "id": "923688dd-1b49-4f8c-8eef-0850d479eea2",
   "metadata": {},
   "outputs": [],
   "source": [
    "df = df.drop('Performance Rating',axis=  1)"
   ]
  },
  {
   "cell_type": "code",
   "execution_count": 121,
   "id": "b39fb7e9-bb7e-4c2d-bf04-e14c8553a8b6",
   "metadata": {},
   "outputs": [
    {
     "data": {
      "text/html": [
       "<div>\n",
       "<style scoped>\n",
       "    .dataframe tbody tr th:only-of-type {\n",
       "        vertical-align: middle;\n",
       "    }\n",
       "\n",
       "    .dataframe tbody tr th {\n",
       "        vertical-align: top;\n",
       "    }\n",
       "\n",
       "    .dataframe thead th {\n",
       "        text-align: right;\n",
       "    }\n",
       "</style>\n",
       "<table border=\"1\" class=\"dataframe\">\n",
       "  <thead>\n",
       "    <tr style=\"text-align: right;\">\n",
       "      <th></th>\n",
       "      <th>Employee_ID</th>\n",
       "      <th>First Name</th>\n",
       "      <th>Last Name</th>\n",
       "      <th>Gender</th>\n",
       "      <th>State</th>\n",
       "      <th>City</th>\n",
       "      <th>Education Level</th>\n",
       "      <th>Birthdate</th>\n",
       "      <th>Hiredate</th>\n",
       "      <th>Termdate</th>\n",
       "      <th>Department</th>\n",
       "      <th>Job Title</th>\n",
       "      <th>Salary</th>\n",
       "      <th>Age</th>\n",
       "      <th>experience</th>\n",
       "    </tr>\n",
       "  </thead>\n",
       "  <tbody>\n",
       "    <tr>\n",
       "      <th>0</th>\n",
       "      <td>00-95822412</td>\n",
       "      <td>Danielle</td>\n",
       "      <td>Johnson</td>\n",
       "      <td>Female</td>\n",
       "      <td>New York</td>\n",
       "      <td>New York City</td>\n",
       "      <td>High School</td>\n",
       "      <td>1980-02-13</td>\n",
       "      <td>2016-04-16</td>\n",
       "      <td>2021-07-05</td>\n",
       "      <td>Customer Service</td>\n",
       "      <td>Help Desk Technician</td>\n",
       "      <td>81552</td>\n",
       "      <td>45</td>\n",
       "      <td>9</td>\n",
       "    </tr>\n",
       "    <tr>\n",
       "      <th>1</th>\n",
       "      <td>00-42868828</td>\n",
       "      <td>John</td>\n",
       "      <td>Taylor</td>\n",
       "      <td>Male</td>\n",
       "      <td>North Carolina</td>\n",
       "      <td>Charlotte</td>\n",
       "      <td>Bachelor</td>\n",
       "      <td>1987-09-22</td>\n",
       "      <td>2017-02-09</td>\n",
       "      <td>2019-06-14</td>\n",
       "      <td>IT</td>\n",
       "      <td>System Administrator</td>\n",
       "      <td>107520</td>\n",
       "      <td>37</td>\n",
       "      <td>8</td>\n",
       "    </tr>\n",
       "    <tr>\n",
       "      <th>2</th>\n",
       "      <td>00-83197857</td>\n",
       "      <td>Erica</td>\n",
       "      <td>Mcclain</td>\n",
       "      <td>Male</td>\n",
       "      <td>New York</td>\n",
       "      <td>New York City</td>\n",
       "      <td>Bachelor</td>\n",
       "      <td>1994-05-19</td>\n",
       "      <td>2016-02-03</td>\n",
       "      <td>2021-03-06</td>\n",
       "      <td>Operations</td>\n",
       "      <td>Logistics Coordinator</td>\n",
       "      <td>61104</td>\n",
       "      <td>31</td>\n",
       "      <td>9</td>\n",
       "    </tr>\n",
       "    <tr>\n",
       "      <th>3</th>\n",
       "      <td>00-13999315</td>\n",
       "      <td>Brittany</td>\n",
       "      <td>Johnson</td>\n",
       "      <td>Male</td>\n",
       "      <td>New York</td>\n",
       "      <td>New York City</td>\n",
       "      <td>Bachelor</td>\n",
       "      <td>1980-04-18</td>\n",
       "      <td>2016-02-06</td>\n",
       "      <td>2018-11-06</td>\n",
       "      <td>Operations</td>\n",
       "      <td>Inventory Specialist</td>\n",
       "      <td>73770</td>\n",
       "      <td>45</td>\n",
       "      <td>9</td>\n",
       "    </tr>\n",
       "    <tr>\n",
       "      <th>4</th>\n",
       "      <td>00-90801586</td>\n",
       "      <td>Jeffery</td>\n",
       "      <td>Wagner</td>\n",
       "      <td>Female</td>\n",
       "      <td>New York</td>\n",
       "      <td>New York City</td>\n",
       "      <td>Bachelor</td>\n",
       "      <td>1985-04-07</td>\n",
       "      <td>2015-01-11</td>\n",
       "      <td>2099-12-31</td>\n",
       "      <td>Operations</td>\n",
       "      <td>Operations Analyst</td>\n",
       "      <td>55581</td>\n",
       "      <td>40</td>\n",
       "      <td>10</td>\n",
       "    </tr>\n",
       "    <tr>\n",
       "      <th>...</th>\n",
       "      <td>...</td>\n",
       "      <td>...</td>\n",
       "      <td>...</td>\n",
       "      <td>...</td>\n",
       "      <td>...</td>\n",
       "      <td>...</td>\n",
       "      <td>...</td>\n",
       "      <td>...</td>\n",
       "      <td>...</td>\n",
       "      <td>...</td>\n",
       "      <td>...</td>\n",
       "      <td>...</td>\n",
       "      <td>...</td>\n",
       "      <td>...</td>\n",
       "      <td>...</td>\n",
       "    </tr>\n",
       "    <tr>\n",
       "      <th>8945</th>\n",
       "      <td>00-29226627</td>\n",
       "      <td>Cory</td>\n",
       "      <td>Mccall</td>\n",
       "      <td>Male</td>\n",
       "      <td>New York</td>\n",
       "      <td>Buffalo</td>\n",
       "      <td>Bachelor</td>\n",
       "      <td>1969-07-28</td>\n",
       "      <td>2021-05-29</td>\n",
       "      <td>2099-12-31</td>\n",
       "      <td>Operations</td>\n",
       "      <td>Inventory Specialist</td>\n",
       "      <td>64265</td>\n",
       "      <td>56</td>\n",
       "      <td>4</td>\n",
       "    </tr>\n",
       "    <tr>\n",
       "      <th>8946</th>\n",
       "      <td>00-15091628</td>\n",
       "      <td>Brian</td>\n",
       "      <td>Nguyen</td>\n",
       "      <td>Male</td>\n",
       "      <td>New York</td>\n",
       "      <td>New York City</td>\n",
       "      <td>Bachelor</td>\n",
       "      <td>1984-05-22</td>\n",
       "      <td>2022-07-06</td>\n",
       "      <td>2099-12-31</td>\n",
       "      <td>Operations</td>\n",
       "      <td>Inventory Specialist</td>\n",
       "      <td>63570</td>\n",
       "      <td>41</td>\n",
       "      <td>3</td>\n",
       "    </tr>\n",
       "    <tr>\n",
       "      <th>8947</th>\n",
       "      <td>00-68025539</td>\n",
       "      <td>Corey</td>\n",
       "      <td>Miles</td>\n",
       "      <td>Female</td>\n",
       "      <td>Michigan</td>\n",
       "      <td>Detroit</td>\n",
       "      <td>High School</td>\n",
       "      <td>2001-08-05</td>\n",
       "      <td>2018-02-03</td>\n",
       "      <td>2099-12-31</td>\n",
       "      <td>HR</td>\n",
       "      <td>Recruiter</td>\n",
       "      <td>73208</td>\n",
       "      <td>23</td>\n",
       "      <td>7</td>\n",
       "    </tr>\n",
       "    <tr>\n",
       "      <th>8948</th>\n",
       "      <td>00-19066901</td>\n",
       "      <td>Krystal</td>\n",
       "      <td>Wilson</td>\n",
       "      <td>Male</td>\n",
       "      <td>North Carolina</td>\n",
       "      <td>Raleigh</td>\n",
       "      <td>Bachelor</td>\n",
       "      <td>1962-09-23</td>\n",
       "      <td>2023-12-07</td>\n",
       "      <td>2099-12-31</td>\n",
       "      <td>Finance</td>\n",
       "      <td>Accountant</td>\n",
       "      <td>95028</td>\n",
       "      <td>62</td>\n",
       "      <td>1</td>\n",
       "    </tr>\n",
       "    <tr>\n",
       "      <th>8949</th>\n",
       "      <td>00-50413766</td>\n",
       "      <td>Derek</td>\n",
       "      <td>Thornton</td>\n",
       "      <td>Female</td>\n",
       "      <td>New York</td>\n",
       "      <td>Rochester</td>\n",
       "      <td>PhD</td>\n",
       "      <td>1993-08-04</td>\n",
       "      <td>2017-08-15</td>\n",
       "      <td>2099-12-31</td>\n",
       "      <td>Sales</td>\n",
       "      <td>Sales Specialist</td>\n",
       "      <td>68351</td>\n",
       "      <td>31</td>\n",
       "      <td>7</td>\n",
       "    </tr>\n",
       "  </tbody>\n",
       "</table>\n",
       "<p>8950 rows × 15 columns</p>\n",
       "</div>"
      ],
      "text/plain": [
       "      Employee_ID First Name Last Name  Gender           State           City  \\\n",
       "0     00-95822412   Danielle   Johnson  Female        New York  New York City   \n",
       "1     00-42868828       John    Taylor    Male  North Carolina      Charlotte   \n",
       "2     00-83197857      Erica   Mcclain    Male        New York  New York City   \n",
       "3     00-13999315   Brittany   Johnson    Male        New York  New York City   \n",
       "4     00-90801586    Jeffery    Wagner  Female        New York  New York City   \n",
       "...           ...        ...       ...     ...             ...            ...   \n",
       "8945  00-29226627       Cory    Mccall    Male        New York        Buffalo   \n",
       "8946  00-15091628      Brian    Nguyen    Male        New York  New York City   \n",
       "8947  00-68025539      Corey     Miles  Female        Michigan        Detroit   \n",
       "8948  00-19066901    Krystal    Wilson    Male  North Carolina        Raleigh   \n",
       "8949  00-50413766      Derek  Thornton  Female        New York      Rochester   \n",
       "\n",
       "     Education Level  Birthdate   Hiredate   Termdate        Department  \\\n",
       "0        High School 1980-02-13 2016-04-16 2021-07-05  Customer Service   \n",
       "1           Bachelor 1987-09-22 2017-02-09 2019-06-14                IT   \n",
       "2           Bachelor 1994-05-19 2016-02-03 2021-03-06        Operations   \n",
       "3           Bachelor 1980-04-18 2016-02-06 2018-11-06        Operations   \n",
       "4           Bachelor 1985-04-07 2015-01-11 2099-12-31        Operations   \n",
       "...              ...        ...        ...        ...               ...   \n",
       "8945        Bachelor 1969-07-28 2021-05-29 2099-12-31        Operations   \n",
       "8946        Bachelor 1984-05-22 2022-07-06 2099-12-31        Operations   \n",
       "8947     High School 2001-08-05 2018-02-03 2099-12-31                HR   \n",
       "8948        Bachelor 1962-09-23 2023-12-07 2099-12-31           Finance   \n",
       "8949             PhD 1993-08-04 2017-08-15 2099-12-31             Sales   \n",
       "\n",
       "                  Job Title  Salary  Age  experience  \n",
       "0      Help Desk Technician   81552   45           9  \n",
       "1      System Administrator  107520   37           8  \n",
       "2     Logistics Coordinator   61104   31           9  \n",
       "3      Inventory Specialist   73770   45           9  \n",
       "4        Operations Analyst   55581   40          10  \n",
       "...                     ...     ...  ...         ...  \n",
       "8945   Inventory Specialist   64265   56           4  \n",
       "8946   Inventory Specialist   63570   41           3  \n",
       "8947              Recruiter   73208   23           7  \n",
       "8948             Accountant   95028   62           1  \n",
       "8949       Sales Specialist   68351   31           7  \n",
       "\n",
       "[8950 rows x 15 columns]"
      ]
     },
     "execution_count": 121,
     "metadata": {},
     "output_type": "execute_result"
    }
   ],
   "source": [
    "df"
   ]
  },
  {
   "cell_type": "code",
   "execution_count": null,
   "id": "7a6f73f1-0879-4b2e-9799-679d14f85012",
   "metadata": {},
   "outputs": [],
   "source": []
  },
  {
   "cell_type": "code",
   "execution_count": null,
   "id": "bf1322c4-794c-4151-8e5d-c4c1540e4999",
   "metadata": {},
   "outputs": [],
   "source": []
  }
 ],
 "metadata": {
  "kernelspec": {
   "display_name": "Python 3 (ipykernel)",
   "language": "python",
   "name": "python3"
  },
  "language_info": {
   "codemirror_mode": {
    "name": "ipython",
    "version": 3
   },
   "file_extension": ".py",
   "mimetype": "text/x-python",
   "name": "python",
   "nbconvert_exporter": "python",
   "pygments_lexer": "ipython3",
   "version": "3.11.5"
  }
 },
 "nbformat": 4,
 "nbformat_minor": 5
}
